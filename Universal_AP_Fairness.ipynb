{
  "nbformat": 4,
  "nbformat_minor": 0,
  "metadata": {
    "colab": {
      "provenance": []
    },
    "kernelspec": {
      "name": "python3",
      "display_name": "Python 3"
    },
    "language_info": {
      "name": "python"
    }
  },
  "cells": [
    {
      "cell_type": "markdown",
      "source": [
        "# CSE 598: Machine Learning Security and Fairness\n",
        "## Universal Adversarial Perturbations\n",
        "- Submitted by:\n",
        "  - Arshdeep Singh\n",
        "  - Vibhor Agarwal\n",
        "\n",
        "## Description\n",
        "- This contains code for generating Universal Adversarial Pertubation(UAP) for ImageNet dataset\n",
        "- The model that was used to test this perturbation was 'Inception' model\n",
        "- A single image from the test set is used against this pertubation to show that UAP can misclassify the image given the model.\n",
        "\n"
      ],
      "metadata": {
        "id": "XaoWJQdXvThT"
      }
    },
    {
      "cell_type": "code",
      "execution_count": null,
      "metadata": {
        "id": "fppv6eaOjtGU"
      },
      "outputs": [],
      "source": [
        "import tensorflow as tf\n",
        "import numpy as np\n",
        "from tensorflow.python.platform import gfile\n",
        "import os.path\n",
        "import matplotlib.pyplot as plt\n",
        "import sys, getopt\n",
        "import zipfile\n",
        "from timeit import time\n",
        "import os\n",
        "from imageio import imread\n",
        "from cv2 import resize"
      ]
    },
    {
      "cell_type": "code",
      "source": [
        "def deepfool(image, f, grads, num_classes=10, overshoot=0.02, max_iter=50):\n",
        "\n",
        "    \"\"\"\n",
        "       :param image: Image of size HxWx3\n",
        "       :param f: feedforward function (input: images, output: values of activation BEFORE softmax).\n",
        "       :param grads: gradient functions with respect to input (as many gradients as classes).\n",
        "       :param num_classes: num_classes (limits the number of classes to test against, by default = 10)\n",
        "       :param overshoot: used as a termination criterion to prevent vanishing updates (default = 0.02).\n",
        "       :param max_iter: maximum number of iterations for deepfool (default = 10)\n",
        "       :return: minimal perturbation that fools the classifier, number of iterations that it required, new estimated_label and perturbed image\n",
        "    \"\"\"\n",
        "\n",
        "    f_image = np.array(f(image)).flatten()\n",
        "    I = (np.array(f_image)).flatten().argsort()[::-1]\n",
        "\n",
        "    I = I[0:num_classes]\n",
        "    label = I[0]\n",
        "\n",
        "    input_shape = image.shape\n",
        "    pert_image = image\n",
        "\n",
        "    f_i = np.array(f(pert_image)).flatten()\n",
        "    k_i = int(np.argmax(f_i))\n",
        "\n",
        "    w = np.zeros(input_shape)\n",
        "    r_tot = np.zeros(input_shape) # we need to change this to previous computed value\n",
        "\n",
        "    loop_i = 0\n",
        "\n",
        "    while k_i == label and loop_i < max_iter:\n",
        "\n",
        "        pert = np.inf\n",
        "        gradients = np.asarray(grads(pert_image,I))\n",
        "\n",
        "        for k in range(1, num_classes):\n",
        "\n",
        "            # set new w_k and new f_k\n",
        "            w_k = gradients[k, :, :, :, :] - gradients[0, :, :, :, :]\n",
        "            f_k = f_i[I[k]] - f_i[I[0]]\n",
        "            pert_k = abs(f_k)/np.linalg.norm(w_k.flatten())\n",
        "\n",
        "            # determine which w_k to use\n",
        "            if pert_k < pert:\n",
        "                pert = pert_k\n",
        "                w = w_k\n",
        "\n",
        "        # compute r_i and r_tot\n",
        "        r_i =  pert * w / np.linalg.norm(w)\n",
        "        r_tot = r_tot + r_i\n",
        "\n",
        "        # compute new perturbed image\n",
        "        pert_image = image + (1+overshoot)*r_tot\n",
        "        loop_i += 1\n",
        "\n",
        "        # compute new label\n",
        "        f_i = np.array(f(pert_image)).flatten()\n",
        "        k_i = int(np.argmax(f_i))\n",
        "\n",
        "    r_tot = (1+overshoot)*r_tot\n",
        "\n",
        "    return r_tot, loop_i, k_i, pert_image"
      ],
      "metadata": {
        "id": "bEd4SfwCqDnA"
      },
      "execution_count": null,
      "outputs": []
    },
    {
      "cell_type": "code",
      "source": [
        "def proj_lp(v, xi, p):\n",
        "\n",
        "    # Project on the lp ball centered at 0 and of radius xi\n",
        "\n",
        "    # SUPPORTS only p = 2 and p = Inf for now\n",
        "    if p == 2:\n",
        "        v = v * min(1, xi/np.linalg.norm(v.flatten(1)))\n",
        "        # v = v / np.linalg.norm(v.flatten(1)) * xi\n",
        "    elif p == np.inf:\n",
        "        v = np.sign(v) * np.minimum(abs(v), xi)\n",
        "    else:\n",
        "         raise ValueError('Values of p different from 2 and Inf are currently not supported...')\n",
        "\n",
        "    return v"
      ],
      "metadata": {
        "id": "qALulUpcqKpm"
      },
      "execution_count": null,
      "outputs": []
    },
    {
      "cell_type": "code",
      "source": [
        "def universal_perturbation(dataset, f, grads, delta=0.2, max_iter_uni = np.inf, xi=10, p=np.inf, num_classes=10, overshoot=0.02, max_iter_df=10):\n",
        "    \"\"\"\n",
        "    :param dataset: Images of size MxHxWxC (M: number of images)\n",
        "\n",
        "    :param f: feedforward function (input: images, output: values of activation BEFORE softmax).\n",
        "\n",
        "    :param grads: gradient functions with respect to input (as many gradients as classes).\n",
        "\n",
        "    :param delta: controls the desired fooling rate (default = 80% fooling rate)\n",
        "\n",
        "    :param max_iter_uni: optional other termination criterion (maximum number of iteration, default = np.inf)\n",
        "\n",
        "    :param xi: controls the l_p magnitude of the perturbation (default = 10)\n",
        "\n",
        "    :param p: norm to be used (FOR NOW, ONLY p = 2, and p = np.inf ARE ACCEPTED!) (default = np.inf)\n",
        "\n",
        "    :param num_classes: num_classes (limits the number of classes to test against, by default = 10)\n",
        "\n",
        "    :param overshoot: used as a termination criterion to prevent vanishing updates (default = 0.02).\n",
        "\n",
        "    :param max_iter_df: maximum number of iterations for deepfool (default = 10)\n",
        "\n",
        "    :return: the universal perturbation.\n",
        "    \"\"\"\n",
        "\n",
        "    v = 0\n",
        "    fooling_rate = 0.0\n",
        "    num_images =  np.shape(dataset)[0] # The images should be stacked ALONG FIRST DIMENSION\n",
        "\n",
        "    itr = 0\n",
        "    while fooling_rate < 1-delta and itr < max_iter_uni:\n",
        "        # Shuffle the dataset\n",
        "        np.random.shuffle(dataset)\n",
        "\n",
        "        print ('Starting pass number ', itr)\n",
        "\n",
        "        # Go through the data set and compute the perturbation increments sequentially\n",
        "        for k in range(0, num_images):\n",
        "            cur_img = dataset[k:(k+1), :, :, :]\n",
        "\n",
        "            if int(np.argmax(np.array(f(cur_img)).flatten())) == int(np.argmax(np.array(f(cur_img+v)).flatten())):\n",
        "                print('>> k = ', k, ', pass #', itr)\n",
        "\n",
        "                # Compute adversarial perturbation\n",
        "                dr,iter,_,_ = deepfool(cur_img + v, f, grads, num_classes=num_classes, overshoot=overshoot, max_iter=max_iter_df)\n",
        "\n",
        "                # Make sure it converged...\n",
        "                if iter < max_iter_df-1:\n",
        "                    v = v + dr\n",
        "\n",
        "                    # Project on l_p ball\n",
        "                    v = proj_lp(v, xi, p)\n",
        "\n",
        "        itr = itr + 1\n",
        "\n",
        "        # Perturb the dataset with computed perturbation\n",
        "        dataset_perturbed = dataset + v\n",
        "\n",
        "        est_labels_orig = np.zeros((num_images))\n",
        "        est_labels_pert = np.zeros((num_images))\n",
        "\n",
        "        batch_size = 100\n",
        "        num_batches = int(np.ceil(np.float(num_images) / np.float(batch_size)))\n",
        "\n",
        "        # Compute the estimated labels in batches\n",
        "        for ii in range(0, num_batches):\n",
        "            m = (ii * batch_size)\n",
        "            M = min((ii+1)*batch_size, num_images)\n",
        "            est_labels_orig[m:M] = np.argmax(f(dataset[m:M, :, :, :]), axis=1).flatten()\n",
        "            est_labels_pert[m:M] = np.argmax(f(dataset_perturbed[m:M, :, :, :]), axis=1).flatten()\n",
        "\n",
        "        # Compute the fooling rate\n",
        "        fooling_rate = float(np.sum(est_labels_pert != est_labels_orig) / float(num_images))\n",
        "        print('FOOLING RATE = ', fooling_rate)\n",
        "\n",
        "    return v"
      ],
      "metadata": {
        "id": "oMs_vGX4qNxR"
      },
      "execution_count": null,
      "outputs": []
    },
    {
      "cell_type": "code",
      "source": [
        "if sys.version_info[0] >= 3:\n",
        "    from urllib.request import urlretrieve\n",
        "else:\n",
        "    from urllib import urlretrieve"
      ],
      "metadata": {
        "id": "uUnNiH-kqPo4"
      },
      "execution_count": null,
      "outputs": []
    },
    {
      "cell_type": "code",
      "source": [
        "device = '/gpu:0'\n",
        "num_classes = 10"
      ],
      "metadata": {
        "id": "I7GYMDgsqRte"
      },
      "execution_count": null,
      "outputs": []
    },
    {
      "cell_type": "code",
      "source": [
        "def jacobian(y_flat, x, inds):\n",
        "    n = num_classes # Not really necessary, just a quick fix.\n",
        "    loop_vars = [\n",
        "         tf.constant(0, tf.int32),\n",
        "         tf.TensorArray(tf.float32, size=n),\n",
        "    ]\n",
        "    _, jacobian = tf.while_loop(\n",
        "        lambda j,_: j < n,\n",
        "        lambda j,result: (j+1, result.write(j, tf.gradients(y_flat[inds[j]], x))),\n",
        "        loop_vars)\n",
        "    return jacobian.stack()"
      ],
      "metadata": {
        "id": "vSqFDZz3qViu"
      },
      "execution_count": null,
      "outputs": []
    },
    {
      "cell_type": "code",
      "source": [
        "path_train_imagenet = '/datasets2/ILSVRC2012/train'\n",
        "path_test_image = 'test_img.png'    "
      ],
      "metadata": {
        "id": "1W6ehNGyqW-O"
      },
      "execution_count": null,
      "outputs": []
    },
    {
      "cell_type": "code",
      "source": [
        "CLASS_INDEX = None\n",
        "CLASS_INDEX_PATH = 'https://s3.amazonaws.com/deep-learning-models/image-models/imagenet_class_index.json'"
      ],
      "metadata": {
        "id": "cGGYYvddqYcc"
      },
      "execution_count": null,
      "outputs": []
    },
    {
      "cell_type": "code",
      "source": [
        "def preprocess_image_batch(image_paths, img_size=None, crop_size=None, color_mode=\"rgb\", out=None):\n",
        "    img_list = []\n",
        "\n",
        "    for im_path in image_paths:\n",
        "        img = imread(im_path, pilmode='RGB')\n",
        "        if img_size:\n",
        "            img = resize(src=img,dsize=img_size)\n",
        "\n",
        "        img = img.astype('float32')\n",
        "        # We normalize the colors (in RGB space) with the empirical means on the training set\n",
        "        img[:, :, 0] -= 123.68\n",
        "        img[:, :, 1] -= 116.779\n",
        "        img[:, :, 2] -= 103.939\n",
        "        # We permute the colors to get them in the BGR order\n",
        "        # if color_mode==\"bgr\":\n",
        "        #    img[:,:,[0,1,2]] = img[:,:,[2,1,0]]\n",
        "\n",
        "        if crop_size:\n",
        "            img = img[(img_size[0] - crop_size[0]) // 2:(img_size[0] + crop_size[0]) // 2, (img_size[1]-crop_size[1])//2:(img_size[1]+crop_size[1])//2, :];\n",
        "\n",
        "        img_list.append(img)\n",
        "\n",
        "    try:\n",
        "        img_batch = np.stack(img_list, axis=0)\n",
        "    except:\n",
        "        raise ValueError('when img_size and crop_size are None, images'\n",
        "                ' in image_paths must have the same shapes.')\n",
        "\n",
        "    if out is not None and hasattr(out, 'append'):\n",
        "        out.append(img_batch)\n",
        "    else:\n",
        "        return img_batch"
      ],
      "metadata": {
        "id": "vVBrGvpVqwDp"
      },
      "execution_count": null,
      "outputs": []
    },
    {
      "cell_type": "code",
      "source": [
        "def undo_image_avg(img):\n",
        "    img_copy = np.copy(img)\n",
        "    img_copy[:, :, 0] = img_copy[:, :, 0] + 123.68\n",
        "    img_copy[:, :, 1] = img_copy[:, :, 1] + 116.779\n",
        "    img_copy[:, :, 2] = img_copy[:, :, 2] + 103.939\n",
        "    return img_copy"
      ],
      "metadata": {
        "id": "AMp1pOZ-rHsF"
      },
      "execution_count": null,
      "outputs": []
    },
    {
      "cell_type": "code",
      "source": [
        "def create_imagenet_npy(path_train_imagenet, len_batch=10000):\n",
        "\n",
        "    # path_train_imagenet = '/datasets2/ILSVRC2012/train';\n",
        "\n",
        "    sz_img = [224, 224]\n",
        "    num_channels = 3\n",
        "    num_classes = 1000\n",
        "\n",
        "    im_array = np.zeros([len_batch] + sz_img + [num_channels], dtype=np.float32)\n",
        "    num_imgs_per_batch = int(len_batch / num_classes)\n",
        "\n",
        "    dirs = [x[0] for x in os.walk(path_train_imagenet)]\n",
        "    dirs = dirs[1:]\n",
        "\n",
        "    # Sort the directory in alphabetical order (same as synset_words.txt)\n",
        "    dirs = sorted(dirs)\n",
        "\n",
        "    it = 0\n",
        "    Matrix = [0 for x in range(1000)]\n",
        "\n",
        "    for d in dirs:\n",
        "        for _, _, filename in os.walk(os.path.join(path_train_imagenet, d)):\n",
        "            Matrix[it] = filename\n",
        "        it = it+1\n",
        "\n",
        "\n",
        "    it = 0\n",
        "    # Load images, pre-process, and save\n",
        "    for k in range(num_classes):\n",
        "        for u in range(num_imgs_per_batch):\n",
        "            print('Processing image number ', it)\n",
        "            path_img = os.path.join(dirs[k], Matrix[k][u])\n",
        "            image = preprocess_image_batch([path_img],img_size=(256,256), crop_size=(224,224), color_mode=\"rgb\")\n",
        "            im_array[it:(it+1), :, :, :] = image\n",
        "            it = it + 1\n",
        "\n",
        "    return im_array"
      ],
      "metadata": {
        "id": "1-3QVAGErJF2"
      },
      "execution_count": null,
      "outputs": []
    },
    {
      "cell_type": "code",
      "source": [
        "persisted_sess = tf.compat.v1.Session()"
      ],
      "metadata": {
        "id": "pZDdVGCNrJms"
      },
      "execution_count": null,
      "outputs": []
    },
    {
      "cell_type": "code",
      "source": [
        "!mkdir data"
      ],
      "metadata": {
        "id": "H-WojxTdsWRQ"
      },
      "execution_count": null,
      "outputs": []
    },
    {
      "cell_type": "code",
      "source": [
        "!gdown --id 1hm4-6AbIwvi0WSdInvU7fNe_bbStl1Dk"
      ],
      "metadata": {
        "colab": {
          "base_uri": "https://localhost:8080/"
        },
        "id": "W14NHooKrT7J",
        "outputId": "b15ea25c-29d6-4088-d6bd-5f2e1b47ba69"
      },
      "execution_count": null,
      "outputs": [
        {
          "output_type": "stream",
          "name": "stdout",
          "text": [
            "/usr/local/lib/python3.8/dist-packages/gdown/cli.py:127: FutureWarning: Option `--id` was deprecated in version 4.3.1 and will be removed in 5.0. You don't need to pass it anymore to use a file ID.\n",
            "  warnings.warn(\n",
            "Downloading...\n",
            "From: https://drive.google.com/uc?id=1hm4-6AbIwvi0WSdInvU7fNe_bbStl1Dk\n",
            "To: /content/tensorflow_inception_graph.pb\n",
            "100% 53.9M/53.9M [00:00<00:00, 61.3MB/s]\n"
          ]
        }
      ]
    },
    {
      "cell_type": "code",
      "source": [
        "inception_model_path = 'tensorflow_inception_graph.pb'\n",
        "print(os.path.isfile(inception_model_path))\n",
        "if os.path.isfile(inception_model_path) == 0:\n",
        "    print('Downloading Inception model...')\n",
        "    urlretrieve (\"https://storage.googleapis.com/download.tensorflow.org/models/inception5h.zip\", 'inception5h.zip')\n",
        "    # Unzipping the file\n",
        "    zip_ref = zipfile.ZipFile('inception5h.zip', 'r')\n",
        "    zip_ref.extract('tensorflow_inception_graph.pb')\n",
        "    zip_ref.close()\n",
        "\n",
        "model = os.path.join(inception_model_path)"
      ],
      "metadata": {
        "id": "kWcdK1v0rRoM",
        "colab": {
          "base_uri": "https://localhost:8080/"
        },
        "outputId": "5030f76e-b2ce-49b3-9943-e4e4a3b15234"
      },
      "execution_count": null,
      "outputs": [
        {
          "output_type": "stream",
          "name": "stdout",
          "text": [
            "True\n"
          ]
        }
      ]
    },
    {
      "cell_type": "code",
      "source": [
        "# Load the Inception model\n",
        "with gfile.FastGFile(model, 'rb') as f:\n",
        "    graph_def = tf.compat.v1.GraphDef()\n",
        "    graph_def.ParseFromString(f.read())\n",
        "    # Store graph in Session storage\n",
        "    persisted_sess.graph.as_default() \n",
        "    tf.import_graph_def(graph_def, name='')"
      ],
      "metadata": {
        "colab": {
          "base_uri": "https://localhost:8080/"
        },
        "id": "jsRA-gHTtj2J",
        "outputId": "e784afa2-2b8a-4220-cea8-2ae7ac93bf5d"
      },
      "execution_count": null,
      "outputs": [
        {
          "output_type": "stream",
          "name": "stderr",
          "text": [
            "WARNING:tensorflow:From <ipython-input-16-faa5b41c7f11>:2: FastGFile.__init__ (from tensorflow.python.platform.gfile) is deprecated and will be removed in a future version.\n",
            "Instructions for updating:\n",
            "Use tf.gfile.GFile.\n"
          ]
        }
      ]
    },
    {
      "cell_type": "code",
      "source": [
        "persisted_sess.graph.get_operations()"
      ],
      "metadata": {
        "id": "jkSBmqydtoAw",
        "colab": {
          "base_uri": "https://localhost:8080/"
        },
        "outputId": "b72338d1-aff1-42a1-90f6-77c21928872a"
      },
      "execution_count": null,
      "outputs": [
        {
          "output_type": "execute_result",
          "data": {
            "text/plain": [
              "[<tf.Operation 'input' type=Placeholder>,\n",
              " <tf.Operation 'conv2d0_w' type=Const>,\n",
              " <tf.Operation 'conv2d0_b' type=Const>,\n",
              " <tf.Operation 'conv2d1_w' type=Const>,\n",
              " <tf.Operation 'conv2d1_b' type=Const>,\n",
              " <tf.Operation 'conv2d2_w' type=Const>,\n",
              " <tf.Operation 'conv2d2_b' type=Const>,\n",
              " <tf.Operation 'mixed3a_1x1_w' type=Const>,\n",
              " <tf.Operation 'mixed3a_1x1_b' type=Const>,\n",
              " <tf.Operation 'mixed3a_3x3_bottleneck_w' type=Const>,\n",
              " <tf.Operation 'mixed3a_3x3_bottleneck_b' type=Const>,\n",
              " <tf.Operation 'mixed3a_3x3_w' type=Const>,\n",
              " <tf.Operation 'mixed3a_3x3_b' type=Const>,\n",
              " <tf.Operation 'mixed3a_5x5_bottleneck_w' type=Const>,\n",
              " <tf.Operation 'mixed3a_5x5_bottleneck_b' type=Const>,\n",
              " <tf.Operation 'mixed3a_5x5_w' type=Const>,\n",
              " <tf.Operation 'mixed3a_5x5_b' type=Const>,\n",
              " <tf.Operation 'mixed3a_pool_reduce_w' type=Const>,\n",
              " <tf.Operation 'mixed3a_pool_reduce_b' type=Const>,\n",
              " <tf.Operation 'mixed3b_1x1_w' type=Const>,\n",
              " <tf.Operation 'mixed3b_1x1_b' type=Const>,\n",
              " <tf.Operation 'mixed3b_3x3_bottleneck_w' type=Const>,\n",
              " <tf.Operation 'mixed3b_3x3_bottleneck_b' type=Const>,\n",
              " <tf.Operation 'mixed3b_3x3_w' type=Const>,\n",
              " <tf.Operation 'mixed3b_3x3_b' type=Const>,\n",
              " <tf.Operation 'mixed3b_5x5_bottleneck_w' type=Const>,\n",
              " <tf.Operation 'mixed3b_5x5_bottleneck_b' type=Const>,\n",
              " <tf.Operation 'mixed3b_5x5_w' type=Const>,\n",
              " <tf.Operation 'mixed3b_5x5_b' type=Const>,\n",
              " <tf.Operation 'mixed3b_pool_reduce_w' type=Const>,\n",
              " <tf.Operation 'mixed3b_pool_reduce_b' type=Const>,\n",
              " <tf.Operation 'mixed4a_1x1_w' type=Const>,\n",
              " <tf.Operation 'mixed4a_1x1_b' type=Const>,\n",
              " <tf.Operation 'mixed4a_3x3_bottleneck_w' type=Const>,\n",
              " <tf.Operation 'mixed4a_3x3_bottleneck_b' type=Const>,\n",
              " <tf.Operation 'mixed4a_3x3_w' type=Const>,\n",
              " <tf.Operation 'mixed4a_3x3_b' type=Const>,\n",
              " <tf.Operation 'mixed4a_5x5_bottleneck_w' type=Const>,\n",
              " <tf.Operation 'mixed4a_5x5_bottleneck_b' type=Const>,\n",
              " <tf.Operation 'mixed4a_5x5_w' type=Const>,\n",
              " <tf.Operation 'mixed4a_5x5_b' type=Const>,\n",
              " <tf.Operation 'mixed4a_pool_reduce_w' type=Const>,\n",
              " <tf.Operation 'mixed4a_pool_reduce_b' type=Const>,\n",
              " <tf.Operation 'mixed4b_1x1_w' type=Const>,\n",
              " <tf.Operation 'mixed4b_1x1_b' type=Const>,\n",
              " <tf.Operation 'mixed4b_3x3_bottleneck_w' type=Const>,\n",
              " <tf.Operation 'mixed4b_3x3_bottleneck_b' type=Const>,\n",
              " <tf.Operation 'mixed4b_3x3_w' type=Const>,\n",
              " <tf.Operation 'mixed4b_3x3_b' type=Const>,\n",
              " <tf.Operation 'mixed4b_5x5_bottleneck_w' type=Const>,\n",
              " <tf.Operation 'mixed4b_5x5_bottleneck_b' type=Const>,\n",
              " <tf.Operation 'mixed4b_5x5_w' type=Const>,\n",
              " <tf.Operation 'mixed4b_5x5_b' type=Const>,\n",
              " <tf.Operation 'mixed4b_pool_reduce_w' type=Const>,\n",
              " <tf.Operation 'mixed4b_pool_reduce_b' type=Const>,\n",
              " <tf.Operation 'mixed4c_1x1_w' type=Const>,\n",
              " <tf.Operation 'mixed4c_1x1_b' type=Const>,\n",
              " <tf.Operation 'mixed4c_3x3_bottleneck_w' type=Const>,\n",
              " <tf.Operation 'mixed4c_3x3_bottleneck_b' type=Const>,\n",
              " <tf.Operation 'mixed4c_3x3_w' type=Const>,\n",
              " <tf.Operation 'mixed4c_3x3_b' type=Const>,\n",
              " <tf.Operation 'mixed4c_5x5_bottleneck_w' type=Const>,\n",
              " <tf.Operation 'mixed4c_5x5_bottleneck_b' type=Const>,\n",
              " <tf.Operation 'mixed4c_5x5_w' type=Const>,\n",
              " <tf.Operation 'mixed4c_5x5_b' type=Const>,\n",
              " <tf.Operation 'mixed4c_pool_reduce_w' type=Const>,\n",
              " <tf.Operation 'mixed4c_pool_reduce_b' type=Const>,\n",
              " <tf.Operation 'mixed4d_1x1_w' type=Const>,\n",
              " <tf.Operation 'mixed4d_1x1_b' type=Const>,\n",
              " <tf.Operation 'mixed4d_3x3_bottleneck_w' type=Const>,\n",
              " <tf.Operation 'mixed4d_3x3_bottleneck_b' type=Const>,\n",
              " <tf.Operation 'mixed4d_3x3_w' type=Const>,\n",
              " <tf.Operation 'mixed4d_3x3_b' type=Const>,\n",
              " <tf.Operation 'mixed4d_5x5_bottleneck_w' type=Const>,\n",
              " <tf.Operation 'mixed4d_5x5_bottleneck_b' type=Const>,\n",
              " <tf.Operation 'mixed4d_5x5_w' type=Const>,\n",
              " <tf.Operation 'mixed4d_5x5_b' type=Const>,\n",
              " <tf.Operation 'mixed4d_pool_reduce_w' type=Const>,\n",
              " <tf.Operation 'mixed4d_pool_reduce_b' type=Const>,\n",
              " <tf.Operation 'mixed4e_1x1_w' type=Const>,\n",
              " <tf.Operation 'mixed4e_1x1_b' type=Const>,\n",
              " <tf.Operation 'mixed4e_3x3_bottleneck_w' type=Const>,\n",
              " <tf.Operation 'mixed4e_3x3_bottleneck_b' type=Const>,\n",
              " <tf.Operation 'mixed4e_3x3_w' type=Const>,\n",
              " <tf.Operation 'mixed4e_3x3_b' type=Const>,\n",
              " <tf.Operation 'mixed4e_5x5_bottleneck_w' type=Const>,\n",
              " <tf.Operation 'mixed4e_5x5_bottleneck_b' type=Const>,\n",
              " <tf.Operation 'mixed4e_5x5_w' type=Const>,\n",
              " <tf.Operation 'mixed4e_5x5_b' type=Const>,\n",
              " <tf.Operation 'mixed4e_pool_reduce_w' type=Const>,\n",
              " <tf.Operation 'mixed4e_pool_reduce_b' type=Const>,\n",
              " <tf.Operation 'mixed5a_1x1_w' type=Const>,\n",
              " <tf.Operation 'mixed5a_1x1_b' type=Const>,\n",
              " <tf.Operation 'mixed5a_3x3_bottleneck_w' type=Const>,\n",
              " <tf.Operation 'mixed5a_3x3_bottleneck_b' type=Const>,\n",
              " <tf.Operation 'mixed5a_3x3_w' type=Const>,\n",
              " <tf.Operation 'mixed5a_3x3_b' type=Const>,\n",
              " <tf.Operation 'mixed5a_5x5_bottleneck_w' type=Const>,\n",
              " <tf.Operation 'mixed5a_5x5_bottleneck_b' type=Const>,\n",
              " <tf.Operation 'mixed5a_5x5_w' type=Const>,\n",
              " <tf.Operation 'mixed5a_5x5_b' type=Const>,\n",
              " <tf.Operation 'mixed5a_pool_reduce_w' type=Const>,\n",
              " <tf.Operation 'mixed5a_pool_reduce_b' type=Const>,\n",
              " <tf.Operation 'mixed5b_1x1_w' type=Const>,\n",
              " <tf.Operation 'mixed5b_1x1_b' type=Const>,\n",
              " <tf.Operation 'mixed5b_3x3_bottleneck_w' type=Const>,\n",
              " <tf.Operation 'mixed5b_3x3_bottleneck_b' type=Const>,\n",
              " <tf.Operation 'mixed5b_3x3_w' type=Const>,\n",
              " <tf.Operation 'mixed5b_3x3_b' type=Const>,\n",
              " <tf.Operation 'mixed5b_5x5_bottleneck_w' type=Const>,\n",
              " <tf.Operation 'mixed5b_5x5_bottleneck_b' type=Const>,\n",
              " <tf.Operation 'mixed5b_5x5_w' type=Const>,\n",
              " <tf.Operation 'mixed5b_5x5_b' type=Const>,\n",
              " <tf.Operation 'mixed5b_pool_reduce_w' type=Const>,\n",
              " <tf.Operation 'mixed5b_pool_reduce_b' type=Const>,\n",
              " <tf.Operation 'head0_bottleneck_w' type=Const>,\n",
              " <tf.Operation 'head0_bottleneck_b' type=Const>,\n",
              " <tf.Operation 'nn0_w' type=Const>,\n",
              " <tf.Operation 'nn0_b' type=Const>,\n",
              " <tf.Operation 'softmax0_w' type=Const>,\n",
              " <tf.Operation 'softmax0_b' type=Const>,\n",
              " <tf.Operation 'head1_bottleneck_w' type=Const>,\n",
              " <tf.Operation 'head1_bottleneck_b' type=Const>,\n",
              " <tf.Operation 'nn1_w' type=Const>,\n",
              " <tf.Operation 'nn1_b' type=Const>,\n",
              " <tf.Operation 'softmax1_w' type=Const>,\n",
              " <tf.Operation 'softmax1_b' type=Const>,\n",
              " <tf.Operation 'softmax2_w' type=Const>,\n",
              " <tf.Operation 'softmax2_b' type=Const>,\n",
              " <tf.Operation 'conv2d0_pre_relu/conv' type=Conv2D>,\n",
              " <tf.Operation 'conv2d0_pre_relu' type=BiasAdd>,\n",
              " <tf.Operation 'conv2d0' type=Relu>,\n",
              " <tf.Operation 'maxpool0' type=MaxPool>,\n",
              " <tf.Operation 'localresponsenorm0' type=LRN>,\n",
              " <tf.Operation 'conv2d1_pre_relu/conv' type=Conv2D>,\n",
              " <tf.Operation 'conv2d1_pre_relu' type=BiasAdd>,\n",
              " <tf.Operation 'conv2d1' type=Relu>,\n",
              " <tf.Operation 'conv2d2_pre_relu/conv' type=Conv2D>,\n",
              " <tf.Operation 'conv2d2_pre_relu' type=BiasAdd>,\n",
              " <tf.Operation 'conv2d2' type=Relu>,\n",
              " <tf.Operation 'localresponsenorm1' type=LRN>,\n",
              " <tf.Operation 'maxpool1' type=MaxPool>,\n",
              " <tf.Operation 'mixed3a_1x1_pre_relu/conv' type=Conv2D>,\n",
              " <tf.Operation 'mixed3a_1x1_pre_relu' type=BiasAdd>,\n",
              " <tf.Operation 'mixed3a_1x1' type=Relu>,\n",
              " <tf.Operation 'mixed3a_3x3_bottleneck_pre_relu/conv' type=Conv2D>,\n",
              " <tf.Operation 'mixed3a_3x3_bottleneck_pre_relu' type=BiasAdd>,\n",
              " <tf.Operation 'mixed3a_3x3_bottleneck' type=Relu>,\n",
              " <tf.Operation 'mixed3a_3x3_pre_relu/conv' type=Conv2D>,\n",
              " <tf.Operation 'mixed3a_3x3_pre_relu' type=BiasAdd>,\n",
              " <tf.Operation 'mixed3a_3x3' type=Relu>,\n",
              " <tf.Operation 'mixed3a_5x5_bottleneck_pre_relu/conv' type=Conv2D>,\n",
              " <tf.Operation 'mixed3a_5x5_bottleneck_pre_relu' type=BiasAdd>,\n",
              " <tf.Operation 'mixed3a_5x5_bottleneck' type=Relu>,\n",
              " <tf.Operation 'mixed3a_5x5_pre_relu/conv' type=Conv2D>,\n",
              " <tf.Operation 'mixed3a_5x5_pre_relu' type=BiasAdd>,\n",
              " <tf.Operation 'mixed3a_5x5' type=Relu>,\n",
              " <tf.Operation 'mixed3a_pool' type=MaxPool>,\n",
              " <tf.Operation 'mixed3a_pool_reduce_pre_relu/conv' type=Conv2D>,\n",
              " <tf.Operation 'mixed3a_pool_reduce_pre_relu' type=BiasAdd>,\n",
              " <tf.Operation 'mixed3a_pool_reduce' type=Relu>,\n",
              " <tf.Operation 'mixed3a/concat_dim' type=Const>,\n",
              " <tf.Operation 'mixed3a' type=Concat>,\n",
              " <tf.Operation 'mixed3b_1x1_pre_relu/conv' type=Conv2D>,\n",
              " <tf.Operation 'mixed3b_1x1_pre_relu' type=BiasAdd>,\n",
              " <tf.Operation 'mixed3b_1x1' type=Relu>,\n",
              " <tf.Operation 'mixed3b_3x3_bottleneck_pre_relu/conv' type=Conv2D>,\n",
              " <tf.Operation 'mixed3b_3x3_bottleneck_pre_relu' type=BiasAdd>,\n",
              " <tf.Operation 'mixed3b_3x3_bottleneck' type=Relu>,\n",
              " <tf.Operation 'mixed3b_3x3_pre_relu/conv' type=Conv2D>,\n",
              " <tf.Operation 'mixed3b_3x3_pre_relu' type=BiasAdd>,\n",
              " <tf.Operation 'mixed3b_3x3' type=Relu>,\n",
              " <tf.Operation 'mixed3b_5x5_bottleneck_pre_relu/conv' type=Conv2D>,\n",
              " <tf.Operation 'mixed3b_5x5_bottleneck_pre_relu' type=BiasAdd>,\n",
              " <tf.Operation 'mixed3b_5x5_bottleneck' type=Relu>,\n",
              " <tf.Operation 'mixed3b_5x5_pre_relu/conv' type=Conv2D>,\n",
              " <tf.Operation 'mixed3b_5x5_pre_relu' type=BiasAdd>,\n",
              " <tf.Operation 'mixed3b_5x5' type=Relu>,\n",
              " <tf.Operation 'mixed3b_pool' type=MaxPool>,\n",
              " <tf.Operation 'mixed3b_pool_reduce_pre_relu/conv' type=Conv2D>,\n",
              " <tf.Operation 'mixed3b_pool_reduce_pre_relu' type=BiasAdd>,\n",
              " <tf.Operation 'mixed3b_pool_reduce' type=Relu>,\n",
              " <tf.Operation 'mixed3b/concat_dim' type=Const>,\n",
              " <tf.Operation 'mixed3b' type=Concat>,\n",
              " <tf.Operation 'maxpool4' type=MaxPool>,\n",
              " <tf.Operation 'mixed4a_1x1_pre_relu/conv' type=Conv2D>,\n",
              " <tf.Operation 'mixed4a_1x1_pre_relu' type=BiasAdd>,\n",
              " <tf.Operation 'mixed4a_1x1' type=Relu>,\n",
              " <tf.Operation 'mixed4a_3x3_bottleneck_pre_relu/conv' type=Conv2D>,\n",
              " <tf.Operation 'mixed4a_3x3_bottleneck_pre_relu' type=BiasAdd>,\n",
              " <tf.Operation 'mixed4a_3x3_bottleneck' type=Relu>,\n",
              " <tf.Operation 'mixed4a_3x3_pre_relu/conv' type=Conv2D>,\n",
              " <tf.Operation 'mixed4a_3x3_pre_relu' type=BiasAdd>,\n",
              " <tf.Operation 'mixed4a_3x3' type=Relu>,\n",
              " <tf.Operation 'mixed4a_5x5_bottleneck_pre_relu/conv' type=Conv2D>,\n",
              " <tf.Operation 'mixed4a_5x5_bottleneck_pre_relu' type=BiasAdd>,\n",
              " <tf.Operation 'mixed4a_5x5_bottleneck' type=Relu>,\n",
              " <tf.Operation 'mixed4a_5x5_pre_relu/conv' type=Conv2D>,\n",
              " <tf.Operation 'mixed4a_5x5_pre_relu' type=BiasAdd>,\n",
              " <tf.Operation 'mixed4a_5x5' type=Relu>,\n",
              " <tf.Operation 'mixed4a_pool' type=MaxPool>,\n",
              " <tf.Operation 'mixed4a_pool_reduce_pre_relu/conv' type=Conv2D>,\n",
              " <tf.Operation 'mixed4a_pool_reduce_pre_relu' type=BiasAdd>,\n",
              " <tf.Operation 'mixed4a_pool_reduce' type=Relu>,\n",
              " <tf.Operation 'mixed4a/concat_dim' type=Const>,\n",
              " <tf.Operation 'mixed4a' type=Concat>,\n",
              " <tf.Operation 'mixed4b_1x1_pre_relu/conv' type=Conv2D>,\n",
              " <tf.Operation 'mixed4b_1x1_pre_relu' type=BiasAdd>,\n",
              " <tf.Operation 'mixed4b_1x1' type=Relu>,\n",
              " <tf.Operation 'mixed4b_3x3_bottleneck_pre_relu/conv' type=Conv2D>,\n",
              " <tf.Operation 'mixed4b_3x3_bottleneck_pre_relu' type=BiasAdd>,\n",
              " <tf.Operation 'mixed4b_3x3_bottleneck' type=Relu>,\n",
              " <tf.Operation 'mixed4b_3x3_pre_relu/conv' type=Conv2D>,\n",
              " <tf.Operation 'mixed4b_3x3_pre_relu' type=BiasAdd>,\n",
              " <tf.Operation 'mixed4b_3x3' type=Relu>,\n",
              " <tf.Operation 'mixed4b_5x5_bottleneck_pre_relu/conv' type=Conv2D>,\n",
              " <tf.Operation 'mixed4b_5x5_bottleneck_pre_relu' type=BiasAdd>,\n",
              " <tf.Operation 'mixed4b_5x5_bottleneck' type=Relu>,\n",
              " <tf.Operation 'mixed4b_5x5_pre_relu/conv' type=Conv2D>,\n",
              " <tf.Operation 'mixed4b_5x5_pre_relu' type=BiasAdd>,\n",
              " <tf.Operation 'mixed4b_5x5' type=Relu>,\n",
              " <tf.Operation 'mixed4b_pool' type=MaxPool>,\n",
              " <tf.Operation 'mixed4b_pool_reduce_pre_relu/conv' type=Conv2D>,\n",
              " <tf.Operation 'mixed4b_pool_reduce_pre_relu' type=BiasAdd>,\n",
              " <tf.Operation 'mixed4b_pool_reduce' type=Relu>,\n",
              " <tf.Operation 'mixed4b/concat_dim' type=Const>,\n",
              " <tf.Operation 'mixed4b' type=Concat>,\n",
              " <tf.Operation 'mixed4c_1x1_pre_relu/conv' type=Conv2D>,\n",
              " <tf.Operation 'mixed4c_1x1_pre_relu' type=BiasAdd>,\n",
              " <tf.Operation 'mixed4c_1x1' type=Relu>,\n",
              " <tf.Operation 'mixed4c_3x3_bottleneck_pre_relu/conv' type=Conv2D>,\n",
              " <tf.Operation 'mixed4c_3x3_bottleneck_pre_relu' type=BiasAdd>,\n",
              " <tf.Operation 'mixed4c_3x3_bottleneck' type=Relu>,\n",
              " <tf.Operation 'mixed4c_3x3_pre_relu/conv' type=Conv2D>,\n",
              " <tf.Operation 'mixed4c_3x3_pre_relu' type=BiasAdd>,\n",
              " <tf.Operation 'mixed4c_3x3' type=Relu>,\n",
              " <tf.Operation 'mixed4c_5x5_bottleneck_pre_relu/conv' type=Conv2D>,\n",
              " <tf.Operation 'mixed4c_5x5_bottleneck_pre_relu' type=BiasAdd>,\n",
              " <tf.Operation 'mixed4c_5x5_bottleneck' type=Relu>,\n",
              " <tf.Operation 'mixed4c_5x5_pre_relu/conv' type=Conv2D>,\n",
              " <tf.Operation 'mixed4c_5x5_pre_relu' type=BiasAdd>,\n",
              " <tf.Operation 'mixed4c_5x5' type=Relu>,\n",
              " <tf.Operation 'mixed4c_pool' type=MaxPool>,\n",
              " <tf.Operation 'mixed4c_pool_reduce_pre_relu/conv' type=Conv2D>,\n",
              " <tf.Operation 'mixed4c_pool_reduce_pre_relu' type=BiasAdd>,\n",
              " <tf.Operation 'mixed4c_pool_reduce' type=Relu>,\n",
              " <tf.Operation 'mixed4c/concat_dim' type=Const>,\n",
              " <tf.Operation 'mixed4c' type=Concat>,\n",
              " <tf.Operation 'mixed4d_1x1_pre_relu/conv' type=Conv2D>,\n",
              " <tf.Operation 'mixed4d_1x1_pre_relu' type=BiasAdd>,\n",
              " <tf.Operation 'mixed4d_1x1' type=Relu>,\n",
              " <tf.Operation 'mixed4d_3x3_bottleneck_pre_relu/conv' type=Conv2D>,\n",
              " <tf.Operation 'mixed4d_3x3_bottleneck_pre_relu' type=BiasAdd>,\n",
              " <tf.Operation 'mixed4d_3x3_bottleneck' type=Relu>,\n",
              " <tf.Operation 'mixed4d_3x3_pre_relu/conv' type=Conv2D>,\n",
              " <tf.Operation 'mixed4d_3x3_pre_relu' type=BiasAdd>,\n",
              " <tf.Operation 'mixed4d_3x3' type=Relu>,\n",
              " <tf.Operation 'mixed4d_5x5_bottleneck_pre_relu/conv' type=Conv2D>,\n",
              " <tf.Operation 'mixed4d_5x5_bottleneck_pre_relu' type=BiasAdd>,\n",
              " <tf.Operation 'mixed4d_5x5_bottleneck' type=Relu>,\n",
              " <tf.Operation 'mixed4d_5x5_pre_relu/conv' type=Conv2D>,\n",
              " <tf.Operation 'mixed4d_5x5_pre_relu' type=BiasAdd>,\n",
              " <tf.Operation 'mixed4d_5x5' type=Relu>,\n",
              " <tf.Operation 'mixed4d_pool' type=MaxPool>,\n",
              " <tf.Operation 'mixed4d_pool_reduce_pre_relu/conv' type=Conv2D>,\n",
              " <tf.Operation 'mixed4d_pool_reduce_pre_relu' type=BiasAdd>,\n",
              " <tf.Operation 'mixed4d_pool_reduce' type=Relu>,\n",
              " <tf.Operation 'mixed4d/concat_dim' type=Const>,\n",
              " <tf.Operation 'mixed4d' type=Concat>,\n",
              " <tf.Operation 'mixed4e_1x1_pre_relu/conv' type=Conv2D>,\n",
              " <tf.Operation 'mixed4e_1x1_pre_relu' type=BiasAdd>,\n",
              " <tf.Operation 'mixed4e_1x1' type=Relu>,\n",
              " <tf.Operation 'mixed4e_3x3_bottleneck_pre_relu/conv' type=Conv2D>,\n",
              " <tf.Operation 'mixed4e_3x3_bottleneck_pre_relu' type=BiasAdd>,\n",
              " <tf.Operation 'mixed4e_3x3_bottleneck' type=Relu>,\n",
              " <tf.Operation 'mixed4e_3x3_pre_relu/conv' type=Conv2D>,\n",
              " <tf.Operation 'mixed4e_3x3_pre_relu' type=BiasAdd>,\n",
              " <tf.Operation 'mixed4e_3x3' type=Relu>,\n",
              " <tf.Operation 'mixed4e_5x5_bottleneck_pre_relu/conv' type=Conv2D>,\n",
              " <tf.Operation 'mixed4e_5x5_bottleneck_pre_relu' type=BiasAdd>,\n",
              " <tf.Operation 'mixed4e_5x5_bottleneck' type=Relu>,\n",
              " <tf.Operation 'mixed4e_5x5_pre_relu/conv' type=Conv2D>,\n",
              " <tf.Operation 'mixed4e_5x5_pre_relu' type=BiasAdd>,\n",
              " <tf.Operation 'mixed4e_5x5' type=Relu>,\n",
              " <tf.Operation 'mixed4e_pool' type=MaxPool>,\n",
              " <tf.Operation 'mixed4e_pool_reduce_pre_relu/conv' type=Conv2D>,\n",
              " <tf.Operation 'mixed4e_pool_reduce_pre_relu' type=BiasAdd>,\n",
              " <tf.Operation 'mixed4e_pool_reduce' type=Relu>,\n",
              " <tf.Operation 'mixed4e/concat_dim' type=Const>,\n",
              " <tf.Operation 'mixed4e' type=Concat>,\n",
              " <tf.Operation 'maxpool10' type=MaxPool>,\n",
              " <tf.Operation 'mixed5a_1x1_pre_relu/conv' type=Conv2D>,\n",
              " <tf.Operation 'mixed5a_1x1_pre_relu' type=BiasAdd>,\n",
              " <tf.Operation 'mixed5a_1x1' type=Relu>,\n",
              " <tf.Operation 'mixed5a_3x3_bottleneck_pre_relu/conv' type=Conv2D>,\n",
              " <tf.Operation 'mixed5a_3x3_bottleneck_pre_relu' type=BiasAdd>,\n",
              " <tf.Operation 'mixed5a_3x3_bottleneck' type=Relu>,\n",
              " <tf.Operation 'mixed5a_3x3_pre_relu/conv' type=Conv2D>,\n",
              " <tf.Operation 'mixed5a_3x3_pre_relu' type=BiasAdd>,\n",
              " <tf.Operation 'mixed5a_3x3' type=Relu>,\n",
              " <tf.Operation 'mixed5a_5x5_bottleneck_pre_relu/conv' type=Conv2D>,\n",
              " <tf.Operation 'mixed5a_5x5_bottleneck_pre_relu' type=BiasAdd>,\n",
              " <tf.Operation 'mixed5a_5x5_bottleneck' type=Relu>,\n",
              " <tf.Operation 'mixed5a_5x5_pre_relu/conv' type=Conv2D>,\n",
              " <tf.Operation 'mixed5a_5x5_pre_relu' type=BiasAdd>,\n",
              " <tf.Operation 'mixed5a_5x5' type=Relu>,\n",
              " <tf.Operation 'mixed5a_pool' type=MaxPool>,\n",
              " <tf.Operation 'mixed5a_pool_reduce_pre_relu/conv' type=Conv2D>,\n",
              " <tf.Operation 'mixed5a_pool_reduce_pre_relu' type=BiasAdd>,\n",
              " <tf.Operation 'mixed5a_pool_reduce' type=Relu>,\n",
              " <tf.Operation 'mixed5a/concat_dim' type=Const>,\n",
              " <tf.Operation 'mixed5a' type=Concat>,\n",
              " <tf.Operation 'mixed5b_1x1_pre_relu/conv' type=Conv2D>,\n",
              " <tf.Operation 'mixed5b_1x1_pre_relu' type=BiasAdd>,\n",
              " <tf.Operation 'mixed5b_1x1' type=Relu>,\n",
              " <tf.Operation 'mixed5b_3x3_bottleneck_pre_relu/conv' type=Conv2D>,\n",
              " <tf.Operation 'mixed5b_3x3_bottleneck_pre_relu' type=BiasAdd>,\n",
              " <tf.Operation 'mixed5b_3x3_bottleneck' type=Relu>,\n",
              " <tf.Operation 'mixed5b_3x3_pre_relu/conv' type=Conv2D>,\n",
              " <tf.Operation 'mixed5b_3x3_pre_relu' type=BiasAdd>,\n",
              " <tf.Operation 'mixed5b_3x3' type=Relu>,\n",
              " <tf.Operation 'mixed5b_5x5_bottleneck_pre_relu/conv' type=Conv2D>,\n",
              " <tf.Operation 'mixed5b_5x5_bottleneck_pre_relu' type=BiasAdd>,\n",
              " <tf.Operation 'mixed5b_5x5_bottleneck' type=Relu>,\n",
              " <tf.Operation 'mixed5b_5x5_pre_relu/conv' type=Conv2D>,\n",
              " <tf.Operation 'mixed5b_5x5_pre_relu' type=BiasAdd>,\n",
              " <tf.Operation 'mixed5b_5x5' type=Relu>,\n",
              " <tf.Operation 'mixed5b_pool' type=MaxPool>,\n",
              " <tf.Operation 'mixed5b_pool_reduce_pre_relu/conv' type=Conv2D>,\n",
              " <tf.Operation 'mixed5b_pool_reduce_pre_relu' type=BiasAdd>,\n",
              " <tf.Operation 'mixed5b_pool_reduce' type=Relu>,\n",
              " <tf.Operation 'mixed5b/concat_dim' type=Const>,\n",
              " <tf.Operation 'mixed5b' type=Concat>,\n",
              " <tf.Operation 'avgpool0' type=AvgPool>,\n",
              " <tf.Operation 'head0_pool' type=AvgPool>,\n",
              " <tf.Operation 'head0_bottleneck_pre_relu/conv' type=Conv2D>,\n",
              " <tf.Operation 'head0_bottleneck_pre_relu' type=BiasAdd>,\n",
              " <tf.Operation 'head0_bottleneck' type=Relu>,\n",
              " <tf.Operation 'head0_bottleneck/reshape/shape' type=Const>,\n",
              " <tf.Operation 'head0_bottleneck/reshape' type=Reshape>,\n",
              " <tf.Operation 'nn0_pre_relu/matmul' type=MatMul>,\n",
              " <tf.Operation 'nn0_pre_relu' type=BiasAdd>,\n",
              " <tf.Operation 'nn0' type=Relu>,\n",
              " <tf.Operation 'nn0/reshape/shape' type=Const>,\n",
              " <tf.Operation 'nn0/reshape' type=Reshape>,\n",
              " <tf.Operation 'softmax0_pre_activation/matmul' type=MatMul>,\n",
              " <tf.Operation 'softmax0_pre_activation' type=BiasAdd>,\n",
              " <tf.Operation 'softmax0' type=Softmax>,\n",
              " <tf.Operation 'head1_pool' type=AvgPool>,\n",
              " <tf.Operation 'head1_bottleneck_pre_relu/conv' type=Conv2D>,\n",
              " <tf.Operation 'head1_bottleneck_pre_relu' type=BiasAdd>,\n",
              " <tf.Operation 'head1_bottleneck' type=Relu>,\n",
              " <tf.Operation 'head1_bottleneck/reshape/shape' type=Const>,\n",
              " <tf.Operation 'head1_bottleneck/reshape' type=Reshape>,\n",
              " <tf.Operation 'nn1_pre_relu/matmul' type=MatMul>,\n",
              " <tf.Operation 'nn1_pre_relu' type=BiasAdd>,\n",
              " <tf.Operation 'nn1' type=Relu>,\n",
              " <tf.Operation 'nn1/reshape/shape' type=Const>,\n",
              " <tf.Operation 'nn1/reshape' type=Reshape>,\n",
              " <tf.Operation 'softmax1_pre_activation/matmul' type=MatMul>,\n",
              " <tf.Operation 'softmax1_pre_activation' type=BiasAdd>,\n",
              " <tf.Operation 'softmax1' type=Softmax>,\n",
              " <tf.Operation 'avgpool0/reshape/shape' type=Const>,\n",
              " <tf.Operation 'avgpool0/reshape' type=Reshape>,\n",
              " <tf.Operation 'softmax2_pre_activation/matmul' type=MatMul>,\n",
              " <tf.Operation 'softmax2_pre_activation' type=BiasAdd>,\n",
              " <tf.Operation 'softmax2' type=Softmax>,\n",
              " <tf.Operation 'output' type=Identity>,\n",
              " <tf.Operation 'output1' type=Identity>,\n",
              " <tf.Operation 'output2' type=Identity>]"
            ]
          },
          "metadata": {},
          "execution_count": 17
        }
      ]
    },
    {
      "cell_type": "code",
      "source": [
        "persisted_input = persisted_sess.graph.get_tensor_by_name(\"input:0\")\n",
        "persisted_output = persisted_sess.graph.get_tensor_by_name(\"softmax2_pre_activation:0\")"
      ],
      "metadata": {
        "id": "V_j3e4Jktp7g"
      },
      "execution_count": null,
      "outputs": []
    },
    {
      "cell_type": "code",
      "source": [
        "print('>> Computing feedforward function...')\n",
        "def f(image_inp): return persisted_sess.run(persisted_output, feed_dict={persisted_input: np.reshape(image_inp, (-1, 224, 224, 3))})"
      ],
      "metadata": {
        "colab": {
          "base_uri": "https://localhost:8080/"
        },
        "id": "4PTbXPe7tss4",
        "outputId": "8ceac295-f353-4081-c240-eb2a20285967"
      },
      "execution_count": null,
      "outputs": [
        {
          "output_type": "stream",
          "name": "stdout",
          "text": [
            ">> Computing feedforward function...\n"
          ]
        }
      ]
    },
    {
      "cell_type": "code",
      "source": [
        "!gdown --id 11vLx1iDbF9RzwFxVPbwx_TMecy-Y__kl"
      ],
      "metadata": {
        "colab": {
          "base_uri": "https://localhost:8080/"
        },
        "id": "OymxkTk-t2td",
        "outputId": "2fb4fdb4-e8c6-4ef6-dcce-da9c472127d5"
      },
      "execution_count": null,
      "outputs": [
        {
          "output_type": "stream",
          "name": "stdout",
          "text": [
            "/usr/local/lib/python3.8/dist-packages/gdown/cli.py:127: FutureWarning: Option `--id` was deprecated in version 4.3.1 and will be removed in 5.0. You don't need to pass it anymore to use a file ID.\n",
            "  warnings.warn(\n",
            "Downloading...\n",
            "From: https://drive.google.com/uc?id=11vLx1iDbF9RzwFxVPbwx_TMecy-Y__kl\n",
            "To: /content/universal.npy\n",
            "100% 1.20M/1.20M [00:00<00:00, 136MB/s]\n"
          ]
        }
      ]
    },
    {
      "cell_type": "code",
      "source": [
        "file_perturbation = 'universal2.npy'"
      ],
      "metadata": {
        "id": "QlN6wCuAtxP4"
      },
      "execution_count": null,
      "outputs": []
    },
    {
      "cell_type": "code",
      "source": [
        "model_present = os.path.isfile(file_perturbation)\n",
        "model_present"
      ],
      "metadata": {
        "colab": {
          "base_uri": "https://localhost:8080/"
        },
        "id": "gh6DibxauA_b",
        "outputId": "63baa368-d75f-41c3-c317-ed60662c5a39"
      },
      "execution_count": null,
      "outputs": [
        {
          "output_type": "execute_result",
          "data": {
            "text/plain": [
              "False"
            ]
          },
          "metadata": {},
          "execution_count": 31
        }
      ]
    },
    {
      "cell_type": "code",
      "source": [
        "if model_present:\n",
        "    # Use pretained model\n",
        "    print('>> Found a pre-computed universal perturbation! Retrieving it from \", file_perturbation')\n",
        "    v = np.load(file_perturbation)"
      ],
      "metadata": {
        "id": "TUwxyFAvuDiL"
      },
      "execution_count": null,
      "outputs": []
    },
    {
      "cell_type": "code",
      "source": [
        "if not model_present:\n",
        "    print('>> Compiling the gradient tensorflow functions. This might take some time...')\n",
        "    y_flat = tf.reshape(persisted_output, (-1,))\n",
        "    print(\">> Step 1\")\n",
        "    inds = tf.placeholder(tf.int32, shape=(num_classes,))\n",
        "    print(\">> Step 2\")\n",
        "    dydx = jacobian(y_flat,persisted_input,inds)\n",
        "    print(\">> Step 3\")\n",
        "\n",
        "    print('>> Computing gradient function...')\n",
        "    def grad_fs(image_inp, indices): return persisted_sess.run(dydx, feed_dict={persisted_input: image_inp, inds: indices}).squeeze(axis=1)\n",
        "\n",
        "    # Load/Create data\n",
        "    datafile = os.path.join('data', 'imagenet_data.npy')\n",
        "    if os.path.isfile(datafile) == 0:\n",
        "        print('>> Creating pre-processed imagenet data...')\n",
        "        X = create_imagenet_npy(path_train_imagenet)\n",
        "\n",
        "        print('>> Saving the pre-processed imagenet data')\n",
        "        if not os.path.exists('data'):\n",
        "            os.makedirs('data')\n",
        "\n",
        "        # Save the pre-processed images\n",
        "        # Caution: This can take take a lot of space. Comment this part to discard saving.\n",
        "        np.save(os.path.join('data', 'imagenet_data.npy'), X)\n",
        "\n",
        "    else:\n",
        "        print('>> Pre-processed imagenet data detected')\n",
        "        X = np.load(datafile)\n",
        "\n",
        "    # Running universal perturbation\n",
        "    v = universal_perturbation(X, f, grad_fs, delta=0.2,num_classes=num_classes)\n",
        "\n",
        "    # Saving the universal perturbation\n",
        "    np.save(os.path.join(file_perturbation), v)"
      ],
      "metadata": {
        "id": "ghHqRcvnuF4i",
        "colab": {
          "base_uri": "https://localhost:8080/",
          "height": 568
        },
        "outputId": "d63c5428-31c5-45dd-d752-81744869b148"
      },
      "execution_count": null,
      "outputs": [
        {
          "output_type": "stream",
          "name": "stdout",
          "text": [
            ">> Compiling the gradient tensorflow functions. This might take some time...\n"
          ]
        },
        {
          "output_type": "error",
          "ename": "TypeError",
          "evalue": "ignored",
          "traceback": [
            "\u001b[0;31m---------------------------------------------------------------------------\u001b[0m",
            "\u001b[0;31mTypeError\u001b[0m                                 Traceback (most recent call last)",
            "\u001b[0;32m<ipython-input-33-b0a4183b3ff1>\u001b[0m in \u001b[0;36m<module>\u001b[0;34m\u001b[0m\n\u001b[1;32m      1\u001b[0m \u001b[0;32mif\u001b[0m \u001b[0;32mnot\u001b[0m \u001b[0mmodel_present\u001b[0m\u001b[0;34m:\u001b[0m\u001b[0;34m\u001b[0m\u001b[0;34m\u001b[0m\u001b[0m\n\u001b[1;32m      2\u001b[0m     \u001b[0mprint\u001b[0m\u001b[0;34m(\u001b[0m\u001b[0;34m'>> Compiling the gradient tensorflow functions. This might take some time...'\u001b[0m\u001b[0;34m)\u001b[0m\u001b[0;34m\u001b[0m\u001b[0;34m\u001b[0m\u001b[0m\n\u001b[0;32m----> 3\u001b[0;31m     \u001b[0my_flat\u001b[0m \u001b[0;34m=\u001b[0m \u001b[0mtf\u001b[0m\u001b[0;34m.\u001b[0m\u001b[0mreshape\u001b[0m\u001b[0;34m(\u001b[0m\u001b[0mpersisted_output\u001b[0m\u001b[0;34m,\u001b[0m \u001b[0;34m(\u001b[0m\u001b[0;34m-\u001b[0m\u001b[0;36m1\u001b[0m\u001b[0;34m,\u001b[0m\u001b[0;34m)\u001b[0m\u001b[0;34m)\u001b[0m\u001b[0;34m\u001b[0m\u001b[0;34m\u001b[0m\u001b[0m\n\u001b[0m\u001b[1;32m      4\u001b[0m     \u001b[0mprint\u001b[0m\u001b[0;34m(\u001b[0m\u001b[0;34m\">> Step 1\"\u001b[0m\u001b[0;34m)\u001b[0m\u001b[0;34m\u001b[0m\u001b[0;34m\u001b[0m\u001b[0m\n\u001b[1;32m      5\u001b[0m     \u001b[0minds\u001b[0m \u001b[0;34m=\u001b[0m \u001b[0mtf\u001b[0m\u001b[0;34m.\u001b[0m\u001b[0mplaceholder\u001b[0m\u001b[0;34m(\u001b[0m\u001b[0mtf\u001b[0m\u001b[0;34m.\u001b[0m\u001b[0mint32\u001b[0m\u001b[0;34m,\u001b[0m \u001b[0mshape\u001b[0m\u001b[0;34m=\u001b[0m\u001b[0;34m(\u001b[0m\u001b[0mnum_classes\u001b[0m\u001b[0;34m,\u001b[0m\u001b[0;34m)\u001b[0m\u001b[0;34m)\u001b[0m\u001b[0;34m\u001b[0m\u001b[0;34m\u001b[0m\u001b[0m\n",
            "\u001b[0;32m/usr/local/lib/python3.8/dist-packages/tensorflow/python/util/traceback_utils.py\u001b[0m in \u001b[0;36merror_handler\u001b[0;34m(*args, **kwargs)\u001b[0m\n\u001b[1;32m    151\u001b[0m     \u001b[0;32mexcept\u001b[0m \u001b[0mException\u001b[0m \u001b[0;32mas\u001b[0m \u001b[0me\u001b[0m\u001b[0;34m:\u001b[0m\u001b[0;34m\u001b[0m\u001b[0;34m\u001b[0m\u001b[0m\n\u001b[1;32m    152\u001b[0m       \u001b[0mfiltered_tb\u001b[0m \u001b[0;34m=\u001b[0m \u001b[0m_process_traceback_frames\u001b[0m\u001b[0;34m(\u001b[0m\u001b[0me\u001b[0m\u001b[0;34m.\u001b[0m\u001b[0m__traceback__\u001b[0m\u001b[0;34m)\u001b[0m\u001b[0;34m\u001b[0m\u001b[0;34m\u001b[0m\u001b[0m\n\u001b[0;32m--> 153\u001b[0;31m       \u001b[0;32mraise\u001b[0m \u001b[0me\u001b[0m\u001b[0;34m.\u001b[0m\u001b[0mwith_traceback\u001b[0m\u001b[0;34m(\u001b[0m\u001b[0mfiltered_tb\u001b[0m\u001b[0;34m)\u001b[0m \u001b[0;32mfrom\u001b[0m \u001b[0;32mNone\u001b[0m\u001b[0;34m\u001b[0m\u001b[0;34m\u001b[0m\u001b[0m\n\u001b[0m\u001b[1;32m    154\u001b[0m     \u001b[0;32mfinally\u001b[0m\u001b[0;34m:\u001b[0m\u001b[0;34m\u001b[0m\u001b[0;34m\u001b[0m\u001b[0m\n\u001b[1;32m    155\u001b[0m       \u001b[0;32mdel\u001b[0m \u001b[0mfiltered_tb\u001b[0m\u001b[0;34m\u001b[0m\u001b[0;34m\u001b[0m\u001b[0m\n",
            "\u001b[0;32m/usr/local/lib/python3.8/dist-packages/tensorflow/python/eager/execute.py\u001b[0m in \u001b[0;36mquick_execute\u001b[0;34m(op_name, num_outputs, inputs, attrs, ctx, name)\u001b[0m\n\u001b[1;32m     50\u001b[0m   \u001b[0;32mtry\u001b[0m\u001b[0;34m:\u001b[0m\u001b[0;34m\u001b[0m\u001b[0;34m\u001b[0m\u001b[0m\n\u001b[1;32m     51\u001b[0m     \u001b[0mctx\u001b[0m\u001b[0;34m.\u001b[0m\u001b[0mensure_initialized\u001b[0m\u001b[0;34m(\u001b[0m\u001b[0;34m)\u001b[0m\u001b[0;34m\u001b[0m\u001b[0;34m\u001b[0m\u001b[0m\n\u001b[0;32m---> 52\u001b[0;31m     tensors = pywrap_tfe.TFE_Py_Execute(ctx._handle, device_name, op_name,\n\u001b[0m\u001b[1;32m     53\u001b[0m                                         inputs, attrs, num_outputs)\n\u001b[1;32m     54\u001b[0m   \u001b[0;32mexcept\u001b[0m \u001b[0mcore\u001b[0m\u001b[0;34m.\u001b[0m\u001b[0m_NotOkStatusException\u001b[0m \u001b[0;32mas\u001b[0m \u001b[0me\u001b[0m\u001b[0;34m:\u001b[0m\u001b[0;34m\u001b[0m\u001b[0;34m\u001b[0m\u001b[0m\n",
            "\u001b[0;31mTypeError\u001b[0m: <tf.Tensor 'softmax2_pre_activation:0' shape=(None, 1008) dtype=float32> is out of scope and cannot be used here. Use return values, explicit Python locals or TensorFlow collections to access it.\nPlease see https://www.tensorflow.org/guide/function#all_outputs_of_a_tffunction_must_be_return_values for more information.\n\n<tf.Tensor 'softmax2_pre_activation:0' shape=(None, 1008) dtype=float32> was defined here:\n<unknown>\n\nThe tensor <tf.Tensor 'softmax2_pre_activation:0' shape=(None, 1008) dtype=float32> cannot be accessed from here, because it was defined in <tensorflow.python.framework.ops.Graph object at 0x7f42441ae8b0>, which is out of scope."
          ]
        }
      ]
    },
    {
      "cell_type": "code",
      "source": [
        "!gdown --id 12xdeqTgkhKFy6dL6fo3xDwl01qfa00ls"
      ],
      "metadata": {
        "colab": {
          "base_uri": "https://localhost:8080/"
        },
        "id": "WMttgW9_uSLf",
        "outputId": "40e83086-2da7-49d7-f917-1166497d4cfc"
      },
      "execution_count": null,
      "outputs": [
        {
          "output_type": "stream",
          "name": "stdout",
          "text": [
            "/usr/local/lib/python3.8/dist-packages/gdown/cli.py:127: FutureWarning: Option `--id` was deprecated in version 4.3.1 and will be removed in 5.0. You don't need to pass it anymore to use a file ID.\n",
            "  warnings.warn(\n",
            "Downloading...\n",
            "From: https://drive.google.com/uc?id=12xdeqTgkhKFy6dL6fo3xDwl01qfa00ls\n",
            "To: /content/labels.txt\n",
            "100% 21.7k/21.7k [00:00<00:00, 29.5MB/s]\n"
          ]
        }
      ]
    },
    {
      "cell_type": "code",
      "source": [
        "!gdown --id 1UyPGFgy8RY0LUy5EoBWIEC0JG8CBdvD5"
      ],
      "metadata": {
        "colab": {
          "base_uri": "https://localhost:8080/"
        },
        "id": "pCUmt7VdumvG",
        "outputId": "380d68e0-c0d1-4d1a-e1f0-a19ac1c4d461"
      },
      "execution_count": null,
      "outputs": [
        {
          "output_type": "stream",
          "name": "stdout",
          "text": [
            "/usr/local/lib/python3.8/dist-packages/gdown/cli.py:127: FutureWarning: Option `--id` was deprecated in version 4.3.1 and will be removed in 5.0. You don't need to pass it anymore to use a file ID.\n",
            "  warnings.warn(\n",
            "Downloading...\n",
            "From: https://drive.google.com/uc?id=1UyPGFgy8RY0LUy5EoBWIEC0JG8CBdvD5\n",
            "To: /content/test_img.png\n",
            "100% 249k/249k [00:00<00:00, 119MB/s]\n"
          ]
        }
      ]
    },
    {
      "cell_type": "code",
      "source": [
        "print('>> Testing the universal perturbation on an image')\n",
        "labels = open('labels.txt', 'r').read().split('\\n')\n",
        "image_original = preprocess_image_batch([path_test_image], img_size=(256, 256), crop_size=(224, 224), color_mode=\"rgb\")\n",
        "label_original = np.argmax(f(image_original), axis=1).flatten()\n",
        "str_label_original = labels[int(label_original)-1].split(',')[0]\n",
        "clipped_v = np.clip(undo_image_avg(image_original[0,:,:,:]+v[0,:,:,:]), 0, 255) - np.clip(undo_image_avg(image_original[0,:,:,:]), 0, 255)\n",
        "image_perturbed = image_original + clipped_v[None, :, :, :]\n",
        "label_perturbed = np.argmax(f(image_perturbed), axis=1).flatten()\n",
        "str_label_perturbed = labels[int(label_perturbed)-1].split(',')[0]"
      ],
      "metadata": {
        "colab": {
          "base_uri": "https://localhost:8080/"
        },
        "id": "tltloUfSuJkg",
        "outputId": "ef171d0e-dd7f-4396-edfc-a92fed5c00ee"
      },
      "execution_count": null,
      "outputs": [
        {
          "output_type": "stream",
          "name": "stdout",
          "text": [
            ">> Testing the universal perturbation on an image\n"
          ]
        }
      ]
    },
    {
      "cell_type": "code",
      "source": [
        "plt.figure()\n",
        "plt.subplot(1, 2, 1)\n",
        "plt.imshow(undo_image_avg(image_original[0, :, :, :]).astype(dtype='uint8'), interpolation=None)\n",
        "plt.title(str_label_original)\n",
        "\n",
        "plt.subplot(1, 2, 2)\n",
        "plt.imshow(undo_image_avg(image_perturbed[0, :, :, :]).astype(dtype='uint8'), interpolation=None)\n",
        "plt.title(str_label_perturbed)\n",
        "\n",
        "plt.show()"
      ],
      "metadata": {
        "colab": {
          "base_uri": "https://localhost:8080/",
          "height": 216
        },
        "id": "V3jf1C9JuLq4",
        "outputId": "37b0826c-0905-4223-f624-c05f9f579344"
      },
      "execution_count": null,
      "outputs": [
        {
          "output_type": "display_data",
          "data": {
            "text/plain": [
              "<Figure size 432x288 with 2 Axes>"
            ],
            "image/png": "[encoded data removed]"
          },
          "metadata": {
            "needs_background": "light"
          }
        }
      ]
    },
    {
      "cell_type": "code",
      "source": [],
      "metadata": {
        "id": "NxmtB2yDut0x"
      },
      "execution_count": null,
      "outputs": []
    }
  ]
}